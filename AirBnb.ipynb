{
 "cells": [
  {
   "cell_type": "code",
   "execution_count": null,
   "metadata": {
    "collapsed": true
   },
   "outputs": [],
   "source": [
    "# This is a Python 3 environment\n",
    "\n",
    "#Import Libraries\n",
    "\n",
    "import numpy as np\n",
    "import pandas as pd\n",
    "import matplotlib.pyplot as plt\n",
    "%matplotlib inline\n",
    "import seaborn as sns\n",
    "from sklearn.linear_model import LinearRegression\n",
    "from sklearn.ensemble import RandomForestRegressor\n",
    "import xgboost\n",
    "from sklearn.model_selection import train_test_split \n",
    "from sklearn.metrics import r2_score, mean_squared_error \n",
    "\n",
    "import os\n",
    "\n",
    "print(os.listdir(\"../input\"))\n"
   ]
  },
  {
   "cell_type": "markdown",
   "metadata": {},
   "source": [
    "# Motivation for Project\n",
    "I am interested in this project because I have a few friends who have or currently rent their spots out through AirBnb. I would like to be able to present them my findings so they will better be able to maximize their rental business.  \n",
    "\n",
    "\n",
    "https://github.com/pranjalvj05/Host_activity_Seattle_AirBNB_Data\n",
    "Question 1: What are the main accomodations / features that have affected reservation price the most?\n",
    "\n",
    "that, if the size of room, host experiences, location etc. most affect the reservation price rates. So that we can keep that in mind before reserved accomodation.\n",
    "\n",
    "\n",
    "Question 2: Is there any seasonality in the price?\n",
    "that is , Does time of the year influence prices? and what are the busiest times of the year to visit particular city? In which season that is summer , winter , spring according to their month are the price high there.\n",
    "\n",
    "\n",
    "\n",
    "https://github.com/paulstancliffe/Blog-Post-AirBnB-Seattle/blob/master/seattle_airbnb-v2.ipynb\n",
    "1) Business Understanding\n",
    "what are the questions you are interested in tackling.\n",
    "a) What is the monthly average price/night for the city?\n",
    "b) What is the average price Monday to Sunday?\n",
    "c) What is the monthly occupancy ratio for the city?\n",
    "d) What is the average price/night per neighbourhood?\n",
    "e) What is the occupancy ratio per neighbourhood?"
   ]
  }
 ],
 "metadata": {
  "kernelspec": {
   "display_name": "Python 3",
   "language": "python",
   "name": "python3"
  },
  "language_info": {
   "codemirror_mode": {
    "name": "ipython",
    "version": 3
   },
   "file_extension": ".py",
   "mimetype": "text/x-python",
   "name": "python",
   "nbconvert_exporter": "python",
   "pygments_lexer": "ipython3",
   "version": "3.6.8"
  }
 },
 "nbformat": 4,
 "nbformat_minor": 2
}
