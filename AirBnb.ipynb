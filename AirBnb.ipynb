{
 "cells": [
  {
   "cell_type": "code",
   "execution_count": 16,
   "metadata": {
    "collapsed": false
   },
   "outputs": [
    {
     "name": "stdout",
     "output_type": "stream",
     "text": [
      "['.git', '.ipynb_checkpoints', 'airbnb.ipynb', 'bos_calendar.csv', 'bos_listings.csv', 'bos_reviews.csv', 'Price distrubution.png', 'sea_calendar.csv', 'sea_listings.csv', 'sea_reviews.csv']\n"
     ]
    }
   ],
   "source": [
    "# This is a Python 3 environment\n",
    "\n",
    "#Import Libraries\n",
    "\n",
    "import numpy as np\n",
    "import pandas as pd\n",
    "import matplotlib.pyplot as plt\n",
    "%matplotlib inline\n",
    "import seaborn as sns\n",
    "from sklearn.linear_model import LinearRegression\n",
    "from sklearn.ensemble import RandomForestRegressor\n",
    "import xgboost\n",
    "from sklearn.model_selection import train_test_split \n",
    "from sklearn.metrics import r2_score, mean_squared_error \n",
    "\n",
    "import os\n",
    "\n",
    "print(os.listdir(\"../airbnb\"))"
   ]
  },
  {
   "cell_type": "markdown",
   "metadata": {},
   "source": [
    "# #Motivation for Project\n",
    "I am interested in this project because I have a few friends who have or currently rent their spots out through AirBnb. I would like to be able to present them my findings so they will better be able to maximize their rental business. \n",
    "\n",
    "Question 1: What are the main accomodations / features that have affect reservation price the most?\n",
    "I will be looking at things such as size of room, location, host experiences etc. and how they affect the reservation price rates. Maybe some sort of ratio. \n",
    "\n",
    "Question 2: Is there any seasonality in the price? How does time of the year correlate with price? What is the busiest time of the year in Boston & Seattle? \n",
    "\n",
    "Question 3: What is the monthly average price/night for the city?  What is the average price/night per neighbourhood? \n"
   ]
  },
  {
   "cell_type": "code",
   "execution_count": 17,
   "metadata": {
    "collapsed": false
   },
   "outputs": [
    {
     "name": "stdout",
     "output_type": "stream",
     "text": [
      "the boston dataset has 3585 listings by 2181 hosts.\n",
      "the seattle dataset has 3818 listings by 2751 hosts.\n"
     ]
    }
   ],
   "source": [
    "#getting the listing dataset for bos and seattle\n",
    "bos_listings = pd.read_csv('C:/Users/ronjb/Desktop/Udacity/airbnb/bos_listings.csv')\n",
    "bos_listings = pd.DataFrame(bos_listings)\n",
    "\n",
    "#find number of listings and number of hosts\n",
    "bos_listings_count = bos_listings['id'].count()\n",
    "bos_hosts = len(bos_listings['host_id'].unique())\n",
    "\n",
    "\n",
    "sea_listings = pd.read_csv('C:/Users/ronjb/Desktop/Udacity/airbnb/sea_listings.csv')\n",
    "sea_listings = pd.DataFrame(sea_listings)\n",
    "\n",
    "#find number of listings and number of hosts\n",
    "sea_listings_count = sea_listings['id'].count()\n",
    "sea_hosts = len(sea_listings['host_id'].unique())\n",
    "\n",
    "print('the boston dataset has %d listings by %d hosts.' % (bos_listings_count, bos_hosts))\n",
    "print('the seattle dataset has %d listings by %d hosts.' % (sea_listings_count, sea_hosts))"
   ]
  },
  {
   "cell_type": "code",
   "execution_count": 18,
   "metadata": {
    "collapsed": false
   },
   "outputs": [
    {
     "data": {
      "text/html": [
       "<div>\n",
       "<style>\n",
       "    .dataframe thead tr:only-child th {\n",
       "        text-align: right;\n",
       "    }\n",
       "\n",
       "    .dataframe thead th {\n",
       "        text-align: left;\n",
       "    }\n",
       "\n",
       "    .dataframe tbody tr th {\n",
       "        vertical-align: top;\n",
       "    }\n",
       "</style>\n",
       "<table border=\"1\" class=\"dataframe\">\n",
       "  <thead>\n",
       "    <tr style=\"text-align: right;\">\n",
       "      <th></th>\n",
       "      <th>id</th>\n",
       "      <th>listing_url</th>\n",
       "      <th>scrape_id</th>\n",
       "      <th>last_scraped</th>\n",
       "      <th>name</th>\n",
       "      <th>summary</th>\n",
       "      <th>space</th>\n",
       "      <th>description</th>\n",
       "      <th>experiences_offered</th>\n",
       "      <th>neighborhood_overview</th>\n",
       "      <th>...</th>\n",
       "      <th>review_scores_value</th>\n",
       "      <th>requires_license</th>\n",
       "      <th>license</th>\n",
       "      <th>jurisdiction_names</th>\n",
       "      <th>instant_bookable</th>\n",
       "      <th>cancellation_policy</th>\n",
       "      <th>require_guest_profile_picture</th>\n",
       "      <th>require_guest_phone_verification</th>\n",
       "      <th>calculated_host_listings_count</th>\n",
       "      <th>reviews_per_month</th>\n",
       "    </tr>\n",
       "  </thead>\n",
       "  <tbody>\n",
       "    <tr>\n",
       "      <th>0</th>\n",
       "      <td>12147973</td>\n",
       "      <td>https://www.airbnb.com/rooms/12147973</td>\n",
       "      <td>20160906204935</td>\n",
       "      <td>2016-09-07</td>\n",
       "      <td>Sunny Bungalow in the City</td>\n",
       "      <td>Cozy, sunny, family home.  Master bedroom high...</td>\n",
       "      <td>The house has an open and cozy feel at the sam...</td>\n",
       "      <td>Cozy, sunny, family home.  Master bedroom high...</td>\n",
       "      <td>none</td>\n",
       "      <td>Roslindale is quiet, convenient and friendly. ...</td>\n",
       "      <td>...</td>\n",
       "      <td>NaN</td>\n",
       "      <td>f</td>\n",
       "      <td>NaN</td>\n",
       "      <td>NaN</td>\n",
       "      <td>f</td>\n",
       "      <td>moderate</td>\n",
       "      <td>f</td>\n",
       "      <td>f</td>\n",
       "      <td>1</td>\n",
       "      <td>NaN</td>\n",
       "    </tr>\n",
       "    <tr>\n",
       "      <th>1</th>\n",
       "      <td>3075044</td>\n",
       "      <td>https://www.airbnb.com/rooms/3075044</td>\n",
       "      <td>20160906204935</td>\n",
       "      <td>2016-09-07</td>\n",
       "      <td>Charming room in pet friendly apt</td>\n",
       "      <td>Charming and quiet room in a second floor 1910...</td>\n",
       "      <td>Small but cozy and quite room with a full size...</td>\n",
       "      <td>Charming and quiet room in a second floor 1910...</td>\n",
       "      <td>none</td>\n",
       "      <td>The room is in Roslindale, a diverse and prima...</td>\n",
       "      <td>...</td>\n",
       "      <td>9.0</td>\n",
       "      <td>f</td>\n",
       "      <td>NaN</td>\n",
       "      <td>NaN</td>\n",
       "      <td>t</td>\n",
       "      <td>moderate</td>\n",
       "      <td>f</td>\n",
       "      <td>f</td>\n",
       "      <td>1</td>\n",
       "      <td>1.30</td>\n",
       "    </tr>\n",
       "    <tr>\n",
       "      <th>2</th>\n",
       "      <td>6976</td>\n",
       "      <td>https://www.airbnb.com/rooms/6976</td>\n",
       "      <td>20160906204935</td>\n",
       "      <td>2016-09-07</td>\n",
       "      <td>Mexican Folk Art Haven in Boston</td>\n",
       "      <td>Come stay with a friendly, middle-aged guy in ...</td>\n",
       "      <td>Come stay with a friendly, middle-aged guy in ...</td>\n",
       "      <td>Come stay with a friendly, middle-aged guy in ...</td>\n",
       "      <td>none</td>\n",
       "      <td>The LOCATION: Roslindale is a safe and diverse...</td>\n",
       "      <td>...</td>\n",
       "      <td>10.0</td>\n",
       "      <td>f</td>\n",
       "      <td>NaN</td>\n",
       "      <td>NaN</td>\n",
       "      <td>f</td>\n",
       "      <td>moderate</td>\n",
       "      <td>t</td>\n",
       "      <td>f</td>\n",
       "      <td>1</td>\n",
       "      <td>0.47</td>\n",
       "    </tr>\n",
       "    <tr>\n",
       "      <th>3</th>\n",
       "      <td>1436513</td>\n",
       "      <td>https://www.airbnb.com/rooms/1436513</td>\n",
       "      <td>20160906204935</td>\n",
       "      <td>2016-09-07</td>\n",
       "      <td>Spacious Sunny Bedroom Suite in Historic Home</td>\n",
       "      <td>Come experience the comforts of home away from...</td>\n",
       "      <td>Most places you find in Boston are small howev...</td>\n",
       "      <td>Come experience the comforts of home away from...</td>\n",
       "      <td>none</td>\n",
       "      <td>Roslindale is a lovely little neighborhood loc...</td>\n",
       "      <td>...</td>\n",
       "      <td>10.0</td>\n",
       "      <td>f</td>\n",
       "      <td>NaN</td>\n",
       "      <td>NaN</td>\n",
       "      <td>f</td>\n",
       "      <td>moderate</td>\n",
       "      <td>f</td>\n",
       "      <td>f</td>\n",
       "      <td>1</td>\n",
       "      <td>1.00</td>\n",
       "    </tr>\n",
       "    <tr>\n",
       "      <th>4</th>\n",
       "      <td>7651065</td>\n",
       "      <td>https://www.airbnb.com/rooms/7651065</td>\n",
       "      <td>20160906204935</td>\n",
       "      <td>2016-09-07</td>\n",
       "      <td>Come Home to Boston</td>\n",
       "      <td>My comfy, clean and relaxing home is one block...</td>\n",
       "      <td>Clean, attractive, private room, one block fro...</td>\n",
       "      <td>My comfy, clean and relaxing home is one block...</td>\n",
       "      <td>none</td>\n",
       "      <td>I love the proximity to downtown, the neighbor...</td>\n",
       "      <td>...</td>\n",
       "      <td>10.0</td>\n",
       "      <td>f</td>\n",
       "      <td>NaN</td>\n",
       "      <td>NaN</td>\n",
       "      <td>f</td>\n",
       "      <td>flexible</td>\n",
       "      <td>f</td>\n",
       "      <td>f</td>\n",
       "      <td>1</td>\n",
       "      <td>2.25</td>\n",
       "    </tr>\n",
       "  </tbody>\n",
       "</table>\n",
       "<p>5 rows × 95 columns</p>\n",
       "</div>"
      ],
      "text/plain": [
       "         id                            listing_url       scrape_id  \\\n",
       "0  12147973  https://www.airbnb.com/rooms/12147973  20160906204935   \n",
       "1   3075044   https://www.airbnb.com/rooms/3075044  20160906204935   \n",
       "2      6976      https://www.airbnb.com/rooms/6976  20160906204935   \n",
       "3   1436513   https://www.airbnb.com/rooms/1436513  20160906204935   \n",
       "4   7651065   https://www.airbnb.com/rooms/7651065  20160906204935   \n",
       "\n",
       "  last_scraped                                           name  \\\n",
       "0   2016-09-07                     Sunny Bungalow in the City   \n",
       "1   2016-09-07              Charming room in pet friendly apt   \n",
       "2   2016-09-07               Mexican Folk Art Haven in Boston   \n",
       "3   2016-09-07  Spacious Sunny Bedroom Suite in Historic Home   \n",
       "4   2016-09-07                            Come Home to Boston   \n",
       "\n",
       "                                             summary  \\\n",
       "0  Cozy, sunny, family home.  Master bedroom high...   \n",
       "1  Charming and quiet room in a second floor 1910...   \n",
       "2  Come stay with a friendly, middle-aged guy in ...   \n",
       "3  Come experience the comforts of home away from...   \n",
       "4  My comfy, clean and relaxing home is one block...   \n",
       "\n",
       "                                               space  \\\n",
       "0  The house has an open and cozy feel at the sam...   \n",
       "1  Small but cozy and quite room with a full size...   \n",
       "2  Come stay with a friendly, middle-aged guy in ...   \n",
       "3  Most places you find in Boston are small howev...   \n",
       "4  Clean, attractive, private room, one block fro...   \n",
       "\n",
       "                                         description experiences_offered  \\\n",
       "0  Cozy, sunny, family home.  Master bedroom high...                none   \n",
       "1  Charming and quiet room in a second floor 1910...                none   \n",
       "2  Come stay with a friendly, middle-aged guy in ...                none   \n",
       "3  Come experience the comforts of home away from...                none   \n",
       "4  My comfy, clean and relaxing home is one block...                none   \n",
       "\n",
       "                               neighborhood_overview        ...          \\\n",
       "0  Roslindale is quiet, convenient and friendly. ...        ...           \n",
       "1  The room is in Roslindale, a diverse and prima...        ...           \n",
       "2  The LOCATION: Roslindale is a safe and diverse...        ...           \n",
       "3  Roslindale is a lovely little neighborhood loc...        ...           \n",
       "4  I love the proximity to downtown, the neighbor...        ...           \n",
       "\n",
       "  review_scores_value requires_license license jurisdiction_names  \\\n",
       "0                 NaN                f     NaN                NaN   \n",
       "1                 9.0                f     NaN                NaN   \n",
       "2                10.0                f     NaN                NaN   \n",
       "3                10.0                f     NaN                NaN   \n",
       "4                10.0                f     NaN                NaN   \n",
       "\n",
       "  instant_bookable cancellation_policy require_guest_profile_picture  \\\n",
       "0                f            moderate                             f   \n",
       "1                t            moderate                             f   \n",
       "2                f            moderate                             t   \n",
       "3                f            moderate                             f   \n",
       "4                f            flexible                             f   \n",
       "\n",
       "  require_guest_phone_verification calculated_host_listings_count  \\\n",
       "0                                f                              1   \n",
       "1                                f                              1   \n",
       "2                                f                              1   \n",
       "3                                f                              1   \n",
       "4                                f                              1   \n",
       "\n",
       "   reviews_per_month  \n",
       "0                NaN  \n",
       "1               1.30  \n",
       "2               0.47  \n",
       "3               1.00  \n",
       "4               2.25  \n",
       "\n",
       "[5 rows x 95 columns]"
      ]
     },
     "execution_count": 18,
     "metadata": {},
     "output_type": "execute_result"
    }
   ],
   "source": [
    "bos_listings.head()"
   ]
  },
  {
   "cell_type": "code",
   "execution_count": 19,
   "metadata": {
    "collapsed": false
   },
   "outputs": [
    {
     "data": {
      "text/html": [
       "<div>\n",
       "<style>\n",
       "    .dataframe thead tr:only-child th {\n",
       "        text-align: right;\n",
       "    }\n",
       "\n",
       "    .dataframe thead th {\n",
       "        text-align: left;\n",
       "    }\n",
       "\n",
       "    .dataframe tbody tr th {\n",
       "        vertical-align: top;\n",
       "    }\n",
       "</style>\n",
       "<table border=\"1\" class=\"dataframe\">\n",
       "  <thead>\n",
       "    <tr style=\"text-align: right;\">\n",
       "      <th></th>\n",
       "      <th>id</th>\n",
       "      <th>listing_url</th>\n",
       "      <th>scrape_id</th>\n",
       "      <th>last_scraped</th>\n",
       "      <th>name</th>\n",
       "      <th>summary</th>\n",
       "      <th>space</th>\n",
       "      <th>description</th>\n",
       "      <th>experiences_offered</th>\n",
       "      <th>neighborhood_overview</th>\n",
       "      <th>...</th>\n",
       "      <th>review_scores_value</th>\n",
       "      <th>requires_license</th>\n",
       "      <th>license</th>\n",
       "      <th>jurisdiction_names</th>\n",
       "      <th>instant_bookable</th>\n",
       "      <th>cancellation_policy</th>\n",
       "      <th>require_guest_profile_picture</th>\n",
       "      <th>require_guest_phone_verification</th>\n",
       "      <th>calculated_host_listings_count</th>\n",
       "      <th>reviews_per_month</th>\n",
       "    </tr>\n",
       "  </thead>\n",
       "  <tbody>\n",
       "    <tr>\n",
       "      <th>0</th>\n",
       "      <td>241032</td>\n",
       "      <td>https://www.airbnb.com/rooms/241032</td>\n",
       "      <td>20160104002432</td>\n",
       "      <td>2016-01-04</td>\n",
       "      <td>Stylish Queen Anne Apartment</td>\n",
       "      <td>NaN</td>\n",
       "      <td>Make your self at home in this charming one-be...</td>\n",
       "      <td>Make your self at home in this charming one-be...</td>\n",
       "      <td>none</td>\n",
       "      <td>NaN</td>\n",
       "      <td>...</td>\n",
       "      <td>10.0</td>\n",
       "      <td>f</td>\n",
       "      <td>NaN</td>\n",
       "      <td>WASHINGTON</td>\n",
       "      <td>f</td>\n",
       "      <td>moderate</td>\n",
       "      <td>f</td>\n",
       "      <td>f</td>\n",
       "      <td>2</td>\n",
       "      <td>4.07</td>\n",
       "    </tr>\n",
       "    <tr>\n",
       "      <th>1</th>\n",
       "      <td>953595</td>\n",
       "      <td>https://www.airbnb.com/rooms/953595</td>\n",
       "      <td>20160104002432</td>\n",
       "      <td>2016-01-04</td>\n",
       "      <td>Bright &amp; Airy Queen Anne Apartment</td>\n",
       "      <td>Chemically sensitive? We've removed the irrita...</td>\n",
       "      <td>Beautiful, hypoallergenic apartment in an extr...</td>\n",
       "      <td>Chemically sensitive? We've removed the irrita...</td>\n",
       "      <td>none</td>\n",
       "      <td>Queen Anne is a wonderful, truly functional vi...</td>\n",
       "      <td>...</td>\n",
       "      <td>10.0</td>\n",
       "      <td>f</td>\n",
       "      <td>NaN</td>\n",
       "      <td>WASHINGTON</td>\n",
       "      <td>f</td>\n",
       "      <td>strict</td>\n",
       "      <td>t</td>\n",
       "      <td>t</td>\n",
       "      <td>6</td>\n",
       "      <td>1.48</td>\n",
       "    </tr>\n",
       "    <tr>\n",
       "      <th>2</th>\n",
       "      <td>3308979</td>\n",
       "      <td>https://www.airbnb.com/rooms/3308979</td>\n",
       "      <td>20160104002432</td>\n",
       "      <td>2016-01-04</td>\n",
       "      <td>New Modern House-Amazing water view</td>\n",
       "      <td>New modern house built in 2013.  Spectacular s...</td>\n",
       "      <td>Our house is modern, light and fresh with a wa...</td>\n",
       "      <td>New modern house built in 2013.  Spectacular s...</td>\n",
       "      <td>none</td>\n",
       "      <td>Upper Queen Anne is a charming neighborhood fu...</td>\n",
       "      <td>...</td>\n",
       "      <td>10.0</td>\n",
       "      <td>f</td>\n",
       "      <td>NaN</td>\n",
       "      <td>WASHINGTON</td>\n",
       "      <td>f</td>\n",
       "      <td>strict</td>\n",
       "      <td>f</td>\n",
       "      <td>f</td>\n",
       "      <td>2</td>\n",
       "      <td>1.15</td>\n",
       "    </tr>\n",
       "    <tr>\n",
       "      <th>3</th>\n",
       "      <td>7421966</td>\n",
       "      <td>https://www.airbnb.com/rooms/7421966</td>\n",
       "      <td>20160104002432</td>\n",
       "      <td>2016-01-04</td>\n",
       "      <td>Queen Anne Chateau</td>\n",
       "      <td>A charming apartment that sits atop Queen Anne...</td>\n",
       "      <td>NaN</td>\n",
       "      <td>A charming apartment that sits atop Queen Anne...</td>\n",
       "      <td>none</td>\n",
       "      <td>NaN</td>\n",
       "      <td>...</td>\n",
       "      <td>NaN</td>\n",
       "      <td>f</td>\n",
       "      <td>NaN</td>\n",
       "      <td>WASHINGTON</td>\n",
       "      <td>f</td>\n",
       "      <td>flexible</td>\n",
       "      <td>f</td>\n",
       "      <td>f</td>\n",
       "      <td>1</td>\n",
       "      <td>NaN</td>\n",
       "    </tr>\n",
       "    <tr>\n",
       "      <th>4</th>\n",
       "      <td>278830</td>\n",
       "      <td>https://www.airbnb.com/rooms/278830</td>\n",
       "      <td>20160104002432</td>\n",
       "      <td>2016-01-04</td>\n",
       "      <td>Charming craftsman 3 bdm house</td>\n",
       "      <td>Cozy family craftman house in beautiful neighb...</td>\n",
       "      <td>Cozy family craftman house in beautiful neighb...</td>\n",
       "      <td>Cozy family craftman house in beautiful neighb...</td>\n",
       "      <td>none</td>\n",
       "      <td>We are in the beautiful neighborhood of Queen ...</td>\n",
       "      <td>...</td>\n",
       "      <td>9.0</td>\n",
       "      <td>f</td>\n",
       "      <td>NaN</td>\n",
       "      <td>WASHINGTON</td>\n",
       "      <td>f</td>\n",
       "      <td>strict</td>\n",
       "      <td>f</td>\n",
       "      <td>f</td>\n",
       "      <td>1</td>\n",
       "      <td>0.89</td>\n",
       "    </tr>\n",
       "  </tbody>\n",
       "</table>\n",
       "<p>5 rows × 92 columns</p>\n",
       "</div>"
      ],
      "text/plain": [
       "        id                           listing_url       scrape_id last_scraped  \\\n",
       "0   241032   https://www.airbnb.com/rooms/241032  20160104002432   2016-01-04   \n",
       "1   953595   https://www.airbnb.com/rooms/953595  20160104002432   2016-01-04   \n",
       "2  3308979  https://www.airbnb.com/rooms/3308979  20160104002432   2016-01-04   \n",
       "3  7421966  https://www.airbnb.com/rooms/7421966  20160104002432   2016-01-04   \n",
       "4   278830   https://www.airbnb.com/rooms/278830  20160104002432   2016-01-04   \n",
       "\n",
       "                                  name  \\\n",
       "0         Stylish Queen Anne Apartment   \n",
       "1   Bright & Airy Queen Anne Apartment   \n",
       "2  New Modern House-Amazing water view   \n",
       "3                   Queen Anne Chateau   \n",
       "4       Charming craftsman 3 bdm house   \n",
       "\n",
       "                                             summary  \\\n",
       "0                                                NaN   \n",
       "1  Chemically sensitive? We've removed the irrita...   \n",
       "2  New modern house built in 2013.  Spectacular s...   \n",
       "3  A charming apartment that sits atop Queen Anne...   \n",
       "4  Cozy family craftman house in beautiful neighb...   \n",
       "\n",
       "                                               space  \\\n",
       "0  Make your self at home in this charming one-be...   \n",
       "1  Beautiful, hypoallergenic apartment in an extr...   \n",
       "2  Our house is modern, light and fresh with a wa...   \n",
       "3                                                NaN   \n",
       "4  Cozy family craftman house in beautiful neighb...   \n",
       "\n",
       "                                         description experiences_offered  \\\n",
       "0  Make your self at home in this charming one-be...                none   \n",
       "1  Chemically sensitive? We've removed the irrita...                none   \n",
       "2  New modern house built in 2013.  Spectacular s...                none   \n",
       "3  A charming apartment that sits atop Queen Anne...                none   \n",
       "4  Cozy family craftman house in beautiful neighb...                none   \n",
       "\n",
       "                               neighborhood_overview        ...         \\\n",
       "0                                                NaN        ...          \n",
       "1  Queen Anne is a wonderful, truly functional vi...        ...          \n",
       "2  Upper Queen Anne is a charming neighborhood fu...        ...          \n",
       "3                                                NaN        ...          \n",
       "4  We are in the beautiful neighborhood of Queen ...        ...          \n",
       "\n",
       "  review_scores_value requires_license license jurisdiction_names  \\\n",
       "0                10.0                f     NaN         WASHINGTON   \n",
       "1                10.0                f     NaN         WASHINGTON   \n",
       "2                10.0                f     NaN         WASHINGTON   \n",
       "3                 NaN                f     NaN         WASHINGTON   \n",
       "4                 9.0                f     NaN         WASHINGTON   \n",
       "\n",
       "  instant_bookable cancellation_policy  require_guest_profile_picture  \\\n",
       "0                f            moderate                              f   \n",
       "1                f              strict                              t   \n",
       "2                f              strict                              f   \n",
       "3                f            flexible                              f   \n",
       "4                f              strict                              f   \n",
       "\n",
       "  require_guest_phone_verification calculated_host_listings_count  \\\n",
       "0                                f                              2   \n",
       "1                                t                              6   \n",
       "2                                f                              2   \n",
       "3                                f                              1   \n",
       "4                                f                              1   \n",
       "\n",
       "  reviews_per_month  \n",
       "0              4.07  \n",
       "1              1.48  \n",
       "2              1.15  \n",
       "3               NaN  \n",
       "4              0.89  \n",
       "\n",
       "[5 rows x 92 columns]"
      ]
     },
     "execution_count": 19,
     "metadata": {},
     "output_type": "execute_result"
    }
   ],
   "source": [
    "sea_listings.head()"
   ]
  },
  {
   "cell_type": "code",
   "execution_count": 20,
   "metadata": {
    "collapsed": false
   },
   "outputs": [
    {
     "data": {
      "text/html": [
       "<div>\n",
       "<style>\n",
       "    .dataframe thead tr:only-child th {\n",
       "        text-align: right;\n",
       "    }\n",
       "\n",
       "    .dataframe thead th {\n",
       "        text-align: left;\n",
       "    }\n",
       "\n",
       "    .dataframe tbody tr th {\n",
       "        vertical-align: top;\n",
       "    }\n",
       "</style>\n",
       "<table border=\"1\" class=\"dataframe\">\n",
       "  <thead>\n",
       "    <tr style=\"text-align: right;\">\n",
       "      <th></th>\n",
       "      <th>id</th>\n",
       "      <th>neighbourhood</th>\n",
       "      <th>neighbourhood_cleansed</th>\n",
       "      <th>zipcode</th>\n",
       "      <th>property_type</th>\n",
       "      <th>room_type</th>\n",
       "      <th>price</th>\n",
       "    </tr>\n",
       "  </thead>\n",
       "  <tbody>\n",
       "    <tr>\n",
       "      <th>0</th>\n",
       "      <td>12147973</td>\n",
       "      <td>Roslindale</td>\n",
       "      <td>Roslindale</td>\n",
       "      <td>02131</td>\n",
       "      <td>House</td>\n",
       "      <td>Entire home/apt</td>\n",
       "      <td>$250.00</td>\n",
       "    </tr>\n",
       "    <tr>\n",
       "      <th>1</th>\n",
       "      <td>3075044</td>\n",
       "      <td>Roslindale</td>\n",
       "      <td>Roslindale</td>\n",
       "      <td>02131</td>\n",
       "      <td>Apartment</td>\n",
       "      <td>Private room</td>\n",
       "      <td>$65.00</td>\n",
       "    </tr>\n",
       "    <tr>\n",
       "      <th>2</th>\n",
       "      <td>6976</td>\n",
       "      <td>Roslindale</td>\n",
       "      <td>Roslindale</td>\n",
       "      <td>02131</td>\n",
       "      <td>Apartment</td>\n",
       "      <td>Private room</td>\n",
       "      <td>$65.00</td>\n",
       "    </tr>\n",
       "    <tr>\n",
       "      <th>3</th>\n",
       "      <td>1436513</td>\n",
       "      <td>NaN</td>\n",
       "      <td>Roslindale</td>\n",
       "      <td>NaN</td>\n",
       "      <td>House</td>\n",
       "      <td>Private room</td>\n",
       "      <td>$75.00</td>\n",
       "    </tr>\n",
       "    <tr>\n",
       "      <th>4</th>\n",
       "      <td>7651065</td>\n",
       "      <td>Roslindale</td>\n",
       "      <td>Roslindale</td>\n",
       "      <td>02131</td>\n",
       "      <td>House</td>\n",
       "      <td>Private room</td>\n",
       "      <td>$79.00</td>\n",
       "    </tr>\n",
       "  </tbody>\n",
       "</table>\n",
       "</div>"
      ],
      "text/plain": [
       "         id neighbourhood neighbourhood_cleansed zipcode property_type  \\\n",
       "0  12147973    Roslindale             Roslindale   02131         House   \n",
       "1   3075044    Roslindale             Roslindale   02131     Apartment   \n",
       "2      6976    Roslindale             Roslindale   02131     Apartment   \n",
       "3   1436513           NaN             Roslindale     NaN         House   \n",
       "4   7651065    Roslindale             Roslindale   02131         House   \n",
       "\n",
       "         room_type    price  \n",
       "0  Entire home/apt  $250.00  \n",
       "1     Private room   $65.00  \n",
       "2     Private room   $65.00  \n",
       "3     Private room   $75.00  \n",
       "4     Private room   $79.00  "
      ]
     },
     "execution_count": 20,
     "metadata": {},
     "output_type": "execute_result"
    }
   ],
   "source": [
    "#Create a smaller dataframe for bos and seattle\n",
    "\n",
    "columns_loc = ['id', 'neighbourhood', 'neighbourhood_cleansed',\n",
    "               'zipcode', 'property_type', 'room_type', 'price']\n",
    "\n",
    "bos_listings_loc = bos_listings[columns_loc]\n",
    "\n",
    "sea_listings_loc = sea_listings[columns_loc]\n",
    "\n",
    "\n",
    "bos_listings_loc.head()\n",
    "#sea_listings_loc.head()"
   ]
  },
  {
   "cell_type": "code",
   "execution_count": 21,
   "metadata": {
    "collapsed": false
   },
   "outputs": [
    {
     "data": {
      "text/html": [
       "<div>\n",
       "<style>\n",
       "    .dataframe thead tr:only-child th {\n",
       "        text-align: right;\n",
       "    }\n",
       "\n",
       "    .dataframe thead th {\n",
       "        text-align: left;\n",
       "    }\n",
       "\n",
       "    .dataframe tbody tr th {\n",
       "        vertical-align: top;\n",
       "    }\n",
       "</style>\n",
       "<table border=\"1\" class=\"dataframe\">\n",
       "  <thead>\n",
       "    <tr style=\"text-align: right;\">\n",
       "      <th></th>\n",
       "      <th>id</th>\n",
       "      <th>neighbourhood</th>\n",
       "      <th>neighbourhood_cleansed</th>\n",
       "      <th>zipcode</th>\n",
       "      <th>property_type</th>\n",
       "      <th>room_type</th>\n",
       "      <th>price</th>\n",
       "    </tr>\n",
       "  </thead>\n",
       "  <tbody>\n",
       "    <tr>\n",
       "      <th>0</th>\n",
       "      <td>241032</td>\n",
       "      <td>Queen Anne</td>\n",
       "      <td>West Queen Anne</td>\n",
       "      <td>98119</td>\n",
       "      <td>Apartment</td>\n",
       "      <td>Entire home/apt</td>\n",
       "      <td>$85.00</td>\n",
       "    </tr>\n",
       "    <tr>\n",
       "      <th>1</th>\n",
       "      <td>953595</td>\n",
       "      <td>Queen Anne</td>\n",
       "      <td>West Queen Anne</td>\n",
       "      <td>98119</td>\n",
       "      <td>Apartment</td>\n",
       "      <td>Entire home/apt</td>\n",
       "      <td>$150.00</td>\n",
       "    </tr>\n",
       "    <tr>\n",
       "      <th>2</th>\n",
       "      <td>3308979</td>\n",
       "      <td>Queen Anne</td>\n",
       "      <td>West Queen Anne</td>\n",
       "      <td>98119</td>\n",
       "      <td>House</td>\n",
       "      <td>Entire home/apt</td>\n",
       "      <td>$975.00</td>\n",
       "    </tr>\n",
       "    <tr>\n",
       "      <th>3</th>\n",
       "      <td>7421966</td>\n",
       "      <td>Queen Anne</td>\n",
       "      <td>West Queen Anne</td>\n",
       "      <td>98119</td>\n",
       "      <td>Apartment</td>\n",
       "      <td>Entire home/apt</td>\n",
       "      <td>$100.00</td>\n",
       "    </tr>\n",
       "    <tr>\n",
       "      <th>4</th>\n",
       "      <td>278830</td>\n",
       "      <td>Queen Anne</td>\n",
       "      <td>West Queen Anne</td>\n",
       "      <td>98119</td>\n",
       "      <td>House</td>\n",
       "      <td>Entire home/apt</td>\n",
       "      <td>$450.00</td>\n",
       "    </tr>\n",
       "  </tbody>\n",
       "</table>\n",
       "</div>"
      ],
      "text/plain": [
       "        id neighbourhood neighbourhood_cleansed zipcode property_type  \\\n",
       "0   241032    Queen Anne        West Queen Anne   98119     Apartment   \n",
       "1   953595    Queen Anne        West Queen Anne   98119     Apartment   \n",
       "2  3308979    Queen Anne        West Queen Anne   98119         House   \n",
       "3  7421966    Queen Anne        West Queen Anne   98119     Apartment   \n",
       "4   278830    Queen Anne        West Queen Anne   98119         House   \n",
       "\n",
       "         room_type    price  \n",
       "0  Entire home/apt   $85.00  \n",
       "1  Entire home/apt  $150.00  \n",
       "2  Entire home/apt  $975.00  \n",
       "3  Entire home/apt  $100.00  \n",
       "4  Entire home/apt  $450.00  "
      ]
     },
     "execution_count": 21,
     "metadata": {},
     "output_type": "execute_result"
    }
   ],
   "source": [
    "sea_listings_loc.head()"
   ]
  },
  {
   "cell_type": "code",
   "execution_count": 22,
   "metadata": {
    "collapsed": false
   },
   "outputs": [
    {
     "data": {
      "text/plain": [
       "<matplotlib.axes._subplots.AxesSubplot at 0x22c807a1240>"
      ]
     },
     "execution_count": 22,
     "metadata": {},
     "output_type": "execute_result"
    },
    {
     "data": {
      "image/png": "[encoded data removed]",
      "text/plain": [
       "<matplotlib.figure.Figure at 0x22c84d2b978>"
      ]
     },
     "metadata": {},
     "output_type": "display_data"
    }
   ],
   "source": [
    "# Finding the na / missing values for each column and visualize\n",
    "bos_listings_na = bos_listings.isnull().mean()*100\n",
    "bos_listings_col_na = bos_listings_na[bos_listings_na > 0]\n",
    "\n",
    "bos_listings_col_na.plot.bar(title='Missing values in each column, %')"
   ]
  },
  {
   "cell_type": "code",
   "execution_count": 23,
   "metadata": {
    "collapsed": false
   },
   "outputs": [
    {
     "data": {
      "text/plain": [
       "<matplotlib.axes._subplots.AxesSubplot at 0x22c80940518>"
      ]
     },
     "execution_count": 23,
     "metadata": {},
     "output_type": "execute_result"
    },
    {
     "data": {
      "image/png": "[encoded data removed]",
      "text/plain": [
       "<matplotlib.figure.Figure at 0x22c80952b70>"
      ]
     },
     "metadata": {},
     "output_type": "display_data"
    }
   ],
   "source": [
    "# Finding the na / missing values for each column and visualize\n",
    "sea_listings_na = sea_listings.isnull().mean()*100\n",
    "sea_listings_col_na = sea_listings_na[sea_listings_na > 0]\n",
    "\n",
    "sea_listings_col_na.plot.bar(title='Missing values in each column, %')"
   ]
  },
  {
   "cell_type": "code",
   "execution_count": 24,
   "metadata": {
    "collapsed": false
   },
   "outputs": [
    {
     "data": {
      "text/html": [
       "<div>\n",
       "<style>\n",
       "    .dataframe thead tr:only-child th {\n",
       "        text-align: right;\n",
       "    }\n",
       "\n",
       "    .dataframe thead th {\n",
       "        text-align: left;\n",
       "    }\n",
       "\n",
       "    .dataframe tbody tr th {\n",
       "        vertical-align: top;\n",
       "    }\n",
       "</style>\n",
       "<table border=\"1\" class=\"dataframe\">\n",
       "  <thead>\n",
       "    <tr style=\"text-align: right;\">\n",
       "      <th></th>\n",
       "      <th>listing_id</th>\n",
       "      <th>date</th>\n",
       "      <th>available</th>\n",
       "      <th>price</th>\n",
       "    </tr>\n",
       "  </thead>\n",
       "  <tbody>\n",
       "    <tr>\n",
       "      <th>0</th>\n",
       "      <td>12147973</td>\n",
       "      <td>2017-09-05</td>\n",
       "      <td>f</td>\n",
       "      <td>NaN</td>\n",
       "    </tr>\n",
       "    <tr>\n",
       "      <th>1</th>\n",
       "      <td>12147973</td>\n",
       "      <td>2017-09-04</td>\n",
       "      <td>f</td>\n",
       "      <td>NaN</td>\n",
       "    </tr>\n",
       "    <tr>\n",
       "      <th>2</th>\n",
       "      <td>12147973</td>\n",
       "      <td>2017-09-03</td>\n",
       "      <td>f</td>\n",
       "      <td>NaN</td>\n",
       "    </tr>\n",
       "    <tr>\n",
       "      <th>3</th>\n",
       "      <td>12147973</td>\n",
       "      <td>2017-09-02</td>\n",
       "      <td>f</td>\n",
       "      <td>NaN</td>\n",
       "    </tr>\n",
       "    <tr>\n",
       "      <th>4</th>\n",
       "      <td>12147973</td>\n",
       "      <td>2017-09-01</td>\n",
       "      <td>f</td>\n",
       "      <td>NaN</td>\n",
       "    </tr>\n",
       "  </tbody>\n",
       "</table>\n",
       "</div>"
      ],
      "text/plain": [
       "   listing_id        date available price\n",
       "0    12147973  2017-09-05         f   NaN\n",
       "1    12147973  2017-09-04         f   NaN\n",
       "2    12147973  2017-09-03         f   NaN\n",
       "3    12147973  2017-09-02         f   NaN\n",
       "4    12147973  2017-09-01         f   NaN"
      ]
     },
     "execution_count": 24,
     "metadata": {},
     "output_type": "execute_result"
    }
   ],
   "source": [
    "#getting the bos calendar dataset\n",
    "bos_calender = pd.read_csv('C:/Users/ronjb/Desktop/Udacity/airbnb/bos_calendar.csv')\n",
    "bos_calender = pd.DataFrame(bos_calender)\n",
    "bos_calender.head()"
   ]
  },
  {
   "cell_type": "code",
   "execution_count": 25,
   "metadata": {
    "collapsed": false
   },
   "outputs": [
    {
     "data": {
      "text/html": [
       "<div>\n",
       "<style>\n",
       "    .dataframe thead tr:only-child th {\n",
       "        text-align: right;\n",
       "    }\n",
       "\n",
       "    .dataframe thead th {\n",
       "        text-align: left;\n",
       "    }\n",
       "\n",
       "    .dataframe tbody tr th {\n",
       "        vertical-align: top;\n",
       "    }\n",
       "</style>\n",
       "<table border=\"1\" class=\"dataframe\">\n",
       "  <thead>\n",
       "    <tr style=\"text-align: right;\">\n",
       "      <th></th>\n",
       "      <th>listing_id</th>\n",
       "      <th>date</th>\n",
       "      <th>available</th>\n",
       "      <th>price</th>\n",
       "    </tr>\n",
       "  </thead>\n",
       "  <tbody>\n",
       "    <tr>\n",
       "      <th>0</th>\n",
       "      <td>241032</td>\n",
       "      <td>2016-01-04</td>\n",
       "      <td>t</td>\n",
       "      <td>$85.00</td>\n",
       "    </tr>\n",
       "    <tr>\n",
       "      <th>1</th>\n",
       "      <td>241032</td>\n",
       "      <td>2016-01-05</td>\n",
       "      <td>t</td>\n",
       "      <td>$85.00</td>\n",
       "    </tr>\n",
       "    <tr>\n",
       "      <th>2</th>\n",
       "      <td>241032</td>\n",
       "      <td>2016-01-06</td>\n",
       "      <td>f</td>\n",
       "      <td>NaN</td>\n",
       "    </tr>\n",
       "    <tr>\n",
       "      <th>3</th>\n",
       "      <td>241032</td>\n",
       "      <td>2016-01-07</td>\n",
       "      <td>f</td>\n",
       "      <td>NaN</td>\n",
       "    </tr>\n",
       "    <tr>\n",
       "      <th>4</th>\n",
       "      <td>241032</td>\n",
       "      <td>2016-01-08</td>\n",
       "      <td>f</td>\n",
       "      <td>NaN</td>\n",
       "    </tr>\n",
       "  </tbody>\n",
       "</table>\n",
       "</div>"
      ],
      "text/plain": [
       "   listing_id        date available   price\n",
       "0      241032  2016-01-04         t  $85.00\n",
       "1      241032  2016-01-05         t  $85.00\n",
       "2      241032  2016-01-06         f     NaN\n",
       "3      241032  2016-01-07         f     NaN\n",
       "4      241032  2016-01-08         f     NaN"
      ]
     },
     "execution_count": 25,
     "metadata": {},
     "output_type": "execute_result"
    }
   ],
   "source": [
    "#getting the seattle calendar dataset\n",
    "sea_calender = pd.read_csv('C:/Users/ronjb/Desktop/Udacity/airbnb/sea_calendar.csv')\n",
    "sea_calender = pd.DataFrame(sea_calender)\n",
    "sea_calender.head()"
   ]
  },
  {
   "cell_type": "code",
   "execution_count": 26,
   "metadata": {
    "collapsed": false,
    "scrolled": true
   },
   "outputs": [
    {
     "data": {
      "text/plain": [
       "<matplotlib.axes._subplots.AxesSubplot at 0x22c854c51d0>"
      ]
     },
     "execution_count": 26,
     "metadata": {},
     "output_type": "execute_result"
    },
    {
     "data": {
      "image/png": "[encoded data removed]",
      "text/plain": [
       "<matplotlib.figure.Figure at 0x22c854c37f0>"
      ]
     },
     "metadata": {},
     "output_type": "display_data"
    }
   ],
   "source": [
    "# Finding the bos na / missing values for each column and then visualize\n",
    "bos_calendar_na = pd.DataFrame([bos_calender.isnull().mean()*100])\n",
    "\n",
    "bos_calendar_na.plot.bar(title='Boston Missing values in each column, %')"
   ]
  },
  {
   "cell_type": "code",
   "execution_count": 27,
   "metadata": {
    "collapsed": false
   },
   "outputs": [
    {
     "data": {
      "text/plain": [
       "<matplotlib.axes._subplots.AxesSubplot at 0x22c80c153c8>"
      ]
     },
     "execution_count": 27,
     "metadata": {},
     "output_type": "execute_result"
    },
    {
     "data": {
      "image/png": "[encoded data removed]",
      "text/plain": [
       "<matplotlib.figure.Figure at 0x22c80be23c8>"
      ]
     },
     "metadata": {},
     "output_type": "display_data"
    }
   ],
   "source": [
    "# Finding the sea na / missing values for each column and then visualize\n",
    "sea_calendar_na = pd.DataFrame([sea_calender.isnull().mean()*100])\n",
    "\n",
    "sea_calendar_na.plot.bar(title='Seattle Missing values in each column, %')"
   ]
  },
  {
   "cell_type": "code",
   "execution_count": 28,
   "metadata": {
    "collapsed": false
   },
   "outputs": [
    {
     "name": "stdout",
     "output_type": "stream",
     "text": [
      "0.0009982585906982422\n"
     ]
    }
   ],
   "source": [
    "#Functions used for data cleaning \n",
    "\n",
    "import time\n",
    "start = time.time()\n",
    "\n",
    "\"the code you want to test stays here\"\n",
    "\n",
    "\n",
    "\n",
    "def monthh(row):\n",
    "    ''' Getting the month from date represented as a string '''\n",
    "    return int(row['date'].split('-')[1])\n",
    "\n",
    "def yearr(row):\n",
    "    ''' Getting the year from date represented as a string '''\n",
    "    return int(row['date'].split('-')[0])\n",
    "\n",
    "def hostt(row):\n",
    "    ''' Getting the year from a date represented as a string '''\n",
    "    try:\n",
    "        host_since = int(row['host_since'].split('-')[0])\n",
    "    except:\n",
    "        host_since = np.nan\n",
    "    return host_since\n",
    "def get_val_from_list(row, column_name, value):\n",
    "    ''' dummy column for values '''\n",
    "    val = 0.0\n",
    "    try:\n",
    "        vals = row[column_name].replace('[', '').replace(\"'\", '').replace(\"]\", '').replace('\"', '').replace('{', '').replace('}', '').split(',')\n",
    "        if value in vals:\n",
    "            val = 1.0\n",
    "    except:\n",
    "        val = 0.0\n",
    "    return val\n",
    "\n",
    "def col_split(Clean_DataFrame, column_name, max_dummies_num = 10):\n",
    "    ''' Splitting the values in columns, which contain lists (like, amenities) '''\n",
    "    \n",
    "    # Now getting the unique value dictionary\n",
    "    values_dict = {}\n",
    "\n",
    "    for unique_value in Clean_DataFrame[column_name].unique(): \n",
    "        for value in unique_value.replace('[', '').replace(\"'\", '').replace(\"]\", '').replace('\"', '').replace('{', '').replace('}', '').split(','):\n",
    "            if value in values_dict:\n",
    "                values_dict[value] = values_dict[value] + 1\n",
    "            else:\n",
    "                values_dict[value] = 0\n",
    "                \n",
    "    values_sorted = sorted(values_dict.items(), key=lambda kv: kv[1], reverse = True)\n",
    "       # split into columns\n",
    "    for value in values_sorted[: max_dummies_num]:\n",
    "        Clean_DataFrame[column_name + '_' + value[0]] = Clean_DataFrame.apply(lambda row: get_val_from_list(row, column_name, value[0]),axis=1)\n",
    "        \n",
    "    return\n",
    "\n",
    "def fee_if_extra_guest(row):\n",
    "    ''' Return 1 for exatra people fee'''\n",
    "    if row['extra_people'] == '$0.00':\n",
    "        return 0.0\n",
    "    else:\n",
    "        return 1.0\n",
    "\n",
    "#Cleaning function\n",
    "def cleaning_data(bos_listings, bos_calender):\n",
    "    '''\n",
    "    Input values are as :\n",
    "    bos listings_dataset - It is the dataframe which has listings data \n",
    "    bos_calender - It is the dataframe which has calendar data\n",
    "    Output values are as\n",
    "    Clean_DataFrame - cleaned dataset, which has the merged tables in which:\n",
    "    (i)  The missing values are imputed with mean or mode.\n",
    "    (ii) The irrelevant columns are dropped.\n",
    "    (iii)The string containing dates are converted into numbers.\n",
    "    (iv) The columns, containing lists, are split into several columns (like, amenities)\n",
    "    '''\n",
    "    #Now we merge both the datasets\n",
    "    bos_listings = bos_listings.rename(index=str, columns={\"id\": \"listing_id\"})\n",
    "    Clean_DataFrame = pd.merge(bos_calender, bos_listings, on = 'listing_id')\n",
    "    \n",
    "    #df = df.drop(axis=1, labels=list)\n",
    "    #https://stackoverflow.com/questions/28538536/deleting-multiple-columns-based-on-column-names-in-pandas\n",
    "    #yourdf.drop(['columnheading1', 'columnheading2'], axis=1, inplace=True)\n",
    "    #dropping the irrelevant columns\n",
    "    drop_col = ['available', 'host_id','host_location','host_acceptance_rate','host_neighbourhood',\n",
    "                   'host_total_listings_count', 'weekly_price', 'monthly_price',\n",
    "                   'security_deposit', 'cleaning_fee', 'calendar_updated',\n",
    "                   'listing_url','last_scraped' ,'scrape_id', 'name', 'summary', 'space', 'description',\n",
    "                   'experiences_offered', 'street', 'neighbourhood', 'neighbourhood_cleansed', 'zipcode',\n",
    "                   'neighborhood_overview', 'notes', 'transit', 'thumbnail_url', 'medium_url', 'picture_url',\n",
    "                   'xl_picture_url', 'host_url', 'host_name', 'host_about', 'host_thumbnail_url', 'host_picture_url',\n",
    "                   'city', 'state', 'market', 'smart_location', 'country_code', 'country', 'latitude', 'longitude',\n",
    "                   'is_location_exact', 'square_feet', 'has_availability', 'availability_30',\n",
    "                   'availability_60', 'availability_90', 'availability_365', 'calendar_last_scraped',\n",
    "                  'first_review', 'last_review', 'requires_license', 'license', 'jurisdiction_names', 'price_y',\n",
    "                  'reviews_per_month']\n",
    "    \n",
    "    Clean_DataFrame = Clean_DataFrame.drop(axis = 1, labels = drop_col)\n",
    "     #converting the date from the calendar dataset into month and drop the date column\n",
    "        \n",
    "    Clean_DataFrame['month'] = Clean_DataFrame.apply(lambda row: monthh(row),axis=1)\n",
    "    Clean_DataFrame['year'] = Clean_DataFrame.apply(lambda row: yearr(row),axis=1)\n",
    "    \n",
    "\n",
    "    #Clean_DataFrame = Clean_DataFrame.drop(labels = 'date')\n",
    "    \n",
    "    #df = pd.DataFrame.drop('Meter ID', axis=1)\n",
    "    \n",
    "    #removing the rows where price_x == nan, because price will be used as response column\n",
    "    Clean_DataFrame = Clean_DataFrame.dropna(subset=['price_x'])\n",
    "    \n",
    "    #converting the price to number and drop the price_x column\n",
    "    Clean_DataFrame['price'] = Clean_DataFrame['price_x'].astype(str)\n",
    "    Clean_DataFrame['price'] = Clean_DataFrame['price'].str.replace(\"[$, ]\", \"\").astype(\"float\")\n",
    "    #Clean_DataFrame = Clean_DataFrame.drop(columns = ['price_x'])\n",
    "    \n",
    "    #converting the host_since date into number and filling the missing values and then drop the original column\n",
    "    Clean_DataFrame['host_since_year'] = Clean_DataFrame.apply(lambda row: hostt(row),axis=1)\n",
    "    Clean_DataFrame['host_since_year'].fillna(Clean_DataFrame['host_since_year'].mean(), inplace = True)\n",
    "    #Clean_DataFrame = Clean_DataFrame.drop(columns = ['host_since'])\n",
    "    \n",
    "    #converting the host_response_rate into number and filling the missing values and then drop the original column\n",
    "    Clean_DataFrame['host_response_rate_num'] = Clean_DataFrame['host_response_rate'].astype(str)\n",
    "    Clean_DataFrame['host_response_rate_num'] = Clean_DataFrame['host_response_rate_num'].str.replace(\"%\", \"\").astype(\"float\")\n",
    "    Clean_DataFrame['host_response_rate_num'].fillna(Clean_DataFrame['host_response_rate_num'].mean(), inplace = True) \n",
    "    Clean_DataFrame['host_response_rate_buckets'] = pd.qcut(Clean_DataFrame['host_response_rate_num'], 5, labels=False, duplicates = 'drop')\n",
    "    \n",
    "    #Clean_DataFrame = Clean_DataFrame.drop(columns = ['host_response_rate', 'host_response_rate_num'])\n",
    "      #filling the missing values with mean value for host_listings_count\n",
    "    Clean_DataFrame['host_listings_count'].fillna(Clean_DataFrame['host_listings_count'].mean(), inplace = True)\n",
    "    \n",
    "    #splitting the host_verifications into dummy columns and drop the original column\n",
    "    col_split(Clean_DataFrame, 'host_verifications')\n",
    "    #Clean_DataFrame = Clean_DataFrame.drop(columns = ['host_verifications'])\n",
    "    \n",
    "    #filling the missing values for bathrooms, bedrooms and beds with mode\n",
    "    Clean_DataFrame['bathrooms'] = Clean_DataFrame['bathrooms'].fillna(Clean_DataFrame['bathrooms'].mode()[0])\n",
    "    Clean_DataFrame['bedrooms'] = Clean_DataFrame['bedrooms'].fillna(Clean_DataFrame['bedrooms'].mode()[0])\n",
    "    Clean_DataFrame['beds'] = Clean_DataFrame['beds'].fillna(Clean_DataFrame['beds'].mode()[0])\n",
    "    \n",
    "    #splitting the amenities into dummy columns and drop the original column\n",
    "    col_split(Clean_DataFrame, 'amenities')\n",
    "    #Clean_DataFrame = Clean_DataFrame.drop(columns = ['amenities'])\n",
    "    \n",
    "    #converting the extra people fee into binar, y column (1 for if fee for extra people is charged, else 0)\n",
    "    Clean_DataFrame['extra_people_fee'] = Clean_DataFrame.apply(lambda row: fee_if_extra_guest(row),axis=1)\n",
    "    #Clean_DataFrame = Clean_DataFrame.drop(columns = ['extra_people'])\n",
    "    \n",
    "    \n",
    "    \n",
    "    drop_col2 = ['date', 'price_x', 'host_since', 'host_verifications', 'amenities', 'extra_people',\n",
    "                'host_response_rate', 'host_response_rate_num', 'host_verifications']\n",
    "    Clean_DataFrame = Clean_DataFrame.drop(axis = 1, labels = drop_col2)\n",
    "    \n",
    "    \n",
    "    #filling the missing values for review scores columns\n",
    "    review_scores_col = ['review_scores_rating', 'review_scores_accuracy', 'review_scores_cleanliness',\n",
    "                         'review_scores_checkin', 'review_scores_communication', 'review_scores_location',\n",
    "                        'review_scores_value']\n",
    "    for column in review_scores_col:\n",
    "        Clean_DataFrame[column].fillna(Clean_DataFrame[column].mean(), inplace = True)\n",
    "    \n",
    "    return Clean_DataFrame\n",
    "\n",
    "end = time.time()\n",
    "print(end - start)\n",
    "\n",
    "#  .0009963512420654297 seconds usually"
   ]
  },
  {
   "cell_type": "code",
   "execution_count": 29,
   "metadata": {
    "collapsed": false
   },
   "outputs": [
    {
     "name": "stdout",
     "output_type": "stream",
     "text": [
      "321.8788273334503\n"
     ]
    }
   ],
   "source": [
    "#Clean dataset\n",
    "#Takes an average of about 276.5 seconds\n",
    "\n",
    "import time\n",
    "start = time.time()\n",
    "\n",
    "Bos_Clean_DataFrame = cleaning_data(bos_listings, bos_calender)\n",
    "\n",
    "\n",
    "end = time.time()\n",
    "print(end - start)"
   ]
  },
  {
   "cell_type": "markdown",
   "metadata": {
    "collapsed": true
   },
   "source": [
    "# Analytics\n",
    "# Right here we are finding the listings as per their price."
   ]
  },
  {
   "cell_type": "code",
   "execution_count": 30,
   "metadata": {
    "collapsed": false
   },
   "outputs": [
    {
     "data": {
      "image/png": "[encoded data removed]",
      "text/plain": [
       "<matplotlib.figure.Figure at 0x22c80142e80>"
      ]
     },
     "metadata": {},
     "output_type": "display_data"
    }
   ],
   "source": [
    "import time\n",
    "start = time.time()\n",
    "\n",
    "#First find the average price of listings and then plot\n",
    "Bos_Average_Price_Listings = Bos_Clean_DataFrame.groupby('listing_id').mean()['price']\n",
    "#Plot\n",
    "plt.figure(figsize=(20,5))\n",
    "plt.hist(Bos_Average_Price_Listings, bins=20)\n",
    "plt.xticks(np.arange(0, 1700, step=100))\n",
    "plt.ylabel('Listings')\n",
    "plt.xlabel('Price in $')\n",
    "plt.title('Listings as per their price')\n",
    "plt.savefig('Price distrubution.png')\n",
    "plt.show()\n",
    "\n",
    "\n",
    "end = time.time()\n",
    "#start = time.time()print(end - start)"
   ]
  },
  {
   "cell_type": "code",
   "execution_count": 31,
   "metadata": {
    "collapsed": false
   },
   "outputs": [
    {
     "name": "stdout",
     "output_type": "stream",
     "text": [
      "Minimum price  11$.\n",
      "Maximum price  7163$\n",
      "Average price  198$.\n",
      "0.011968135833740234\n"
     ]
    }
   ],
   "source": [
    "start = time.time()\n",
    "#minimum, maximum and average prices exploration\n",
    "Bos_minimum_price = Bos_Clean_DataFrame['price'].min()\n",
    "Bos_maximum_price = Bos_Clean_DataFrame['price'].max()\n",
    "Bos_average_price = Bos_Clean_DataFrame['price'].mean()\n",
    "\n",
    "print('Minimum price  %d$.' % (Bos_minimum_price))\n",
    "print('Maximum price  %d$' % (Bos_maximum_price))\n",
    "print('Average price  %d$.' % (Bos_average_price))\n",
    "\n",
    "end = time.time()\n",
    "print(end - start)"
   ]
  },
  {
   "cell_type": "code",
   "execution_count": 33,
   "metadata": {
    "collapsed": false
   },
   "outputs": [
    {
     "name": "stdout",
     "output_type": "stream",
     "text": [
      "414.7724747657776\n"
     ]
    }
   ],
   "source": [
    "#Average takes about 395 seconds ~7 minutes\n",
    "\n",
    "start = time.time()\n",
    "\n",
    "Sea_Clean_DataFrame = cleaning_data(sea_listings, sea_calender)\n",
    "end = time.time()\n",
    "print(end - start)"
   ]
  },
  {
   "cell_type": "code",
   "execution_count": 36,
   "metadata": {
    "collapsed": false
   },
   "outputs": [
    {
     "data": {
      "image/png": "[encoded data removed]",
      "text/plain": [
       "<matplotlib.figure.Figure at 0x22c808efc50>"
      ]
     },
     "metadata": {},
     "output_type": "display_data"
    }
   ],
   "source": [
    "import time\n",
    "start = time.time()\n",
    "\n",
    "#First find the average price of listings and then plot\n",
    "Sea_Average_Price_Listings = Sea_Clean_DataFrame.groupby('listing_id').mean()['price']\n",
    "#Plot\n",
    "plt.figure(figsize=(20,5))\n",
    "plt.hist(Sea_Average_Price_Listings, bins=20)\n",
    "plt.xticks(np.arange(0, 1700, step=100))\n",
    "plt.ylabel('Listings')\n",
    "plt.xlabel('Price in $')\n",
    "plt.title('Listings as per their price')\n",
    "plt.savefig('Price distrubution.png')\n",
    "plt.show()\n",
    "\n",
    "\n",
    "end = time.time()\n",
    "#start = time.time()print(end - start)"
   ]
  },
  {
   "cell_type": "code",
   "execution_count": 37,
   "metadata": {
    "collapsed": false
   },
   "outputs": [
    {
     "name": "stdout",
     "output_type": "stream",
     "text": [
      "Minimum price  10$.\n",
      "Maximum price  1650$\n",
      "Average price  137$.\n",
      "0.01792001724243164\n"
     ]
    }
   ],
   "source": [
    "start = time.time()\n",
    "#minimum, maximum and average prices exploration\n",
    "Sea_minimum_price = Sea_Clean_DataFrame['price'].min()\n",
    "Sea_maximum_price = Sea_Clean_DataFrame['price'].max()\n",
    "Sea_average_price = Sea_Clean_DataFrame['price'].mean()\n",
    "\n",
    "print('Minimum price  %d$.' % (Sea_minimum_price))\n",
    "print('Maximum price  %d$' % (Sea_maximum_price))\n",
    "print('Average price  %d$.' % (Sea_average_price))\n",
    "\n",
    "end = time.time()\n",
    "print(end - start)"
   ]
  },
  {
   "cell_type": "markdown",
   "metadata": {
    "collapsed": true
   },
   "source": []
  },
  {
   "cell_type": "markdown",
   "metadata": {},
   "source": [
    "## Question 2: What are the features that affect the prices?\n",
    "\n",
    "\n",
    "Answer: For this we take out some coumns that are numeric incuding 'price' from the Clean_DataFrame and then find the correation between them. I use Heatmap graph for visualizing the correlation"
   ]
  },
  {
   "cell_type": "code",
   "execution_count": 50,
   "metadata": {
    "collapsed": false
   },
   "outputs": [
    {
     "data": {
      "image/png": "[encoded data removed]",
      "text/plain": [
       "<matplotlib.figure.Figure at 0x22c85593e80>"
      ]
     },
     "metadata": {},
     "output_type": "display_data"
    }
   ],
   "source": [
    "#Now get the coulumn that are used for correlation\n",
    "Bos_Correlation_columns = ['accommodates','bathrooms','bedrooms','beds','host_since_year',\n",
    "        'host_listings_count', 'extra_people_fee',\n",
    "        'review_scores_rating', 'price']\n",
    "\n",
    "#correlation between columns \n",
    "Bos_coffecient_corr = np.corrcoef(Bos_Clean_DataFrame[Bos_Correlation_columns].values.T)\n",
    "#Heatmap\n",
    "sns.set(font_scale=1)\n",
    "sns.set(rc={'figure.figsize':(7,7)})\n",
    "Bos_heatmap_fig = sns.heatmap(Bos_coffecient_corr, cbar = True, annot=True, square = True, fmt = '.2f', cmap=\"Greens\",\n",
    "              yticklabels = Bos_Correlation_columns, xticklabels = Bos_Correlation_columns).set_title('Boston Visualizing Correations By Heatmap')\n",
    "\n",
    "Bos_fig = Bos_heatmap_fig.get_figure()\n",
    "Bos_fig.savefig('correlations.png')"
   ]
  },
  {
   "cell_type": "code",
   "execution_count": 53,
   "metadata": {
    "collapsed": false
   },
   "outputs": [
    {
     "data": {
      "image/png": "[encoded data removed]",
      "text/plain": [
       "<matplotlib.figure.Figure at 0x22cd79fe908>"
      ]
     },
     "metadata": {},
     "output_type": "display_data"
    }
   ],
   "source": [
    "#Now get the coulumn that are used for correlation\n",
    "Sea_Correlation_columns = ['accommodates','bathrooms','bedrooms','beds','host_since_year',\n",
    "        'host_listings_count', 'extra_people_fee',\n",
    "        'review_scores_rating', 'price']\n",
    "\n",
    "#correlation between columns \n",
    "Sea_coffecient_corr = np.corrcoef(Sea_Clean_DataFrame[Sea_Correlation_columns].values.T)\n",
    "#Heatmap\n",
    "sns.set(font_scale=1)\n",
    "sns.set(rc={'figure.figsize':(7,7)})\n",
    "Sea_heatmap_fig = sns.heatmap(Sea_coffecient_corr, cbar = True, annot=True, square = False, fmt = '.2f', cmap=\"Blues\",\n",
    "              yticklabels = Sea_Correlation_columns, xticklabels = Sea_Correlation_columns).set_title('Seattle Visualizing Correations By Heatmap')\n",
    "\n",
    "Sea_fig = Sea_heatmap_fig.get_figure()\n",
    "Sea_fig.savefig('correlations.png')"
   ]
  },
  {
   "cell_type": "markdown",
   "metadata": {},
   "source": [
    "## Categorical Data"
   ]
  },
  {
   "cell_type": "code",
   "execution_count": 69,
   "metadata": {
    "collapsed": false
   },
   "outputs": [],
   "source": [
    "Bos_categorical_col = list(Bos_Clean_DataFrame.select_dtypes(include=['object']).columns)\n",
    "    \n",
    "for col in  Bos_categorical_col:\n",
    "    Bos_Clean_DataFrame = pd.concat([Bos_Clean_DataFrame.drop(col, axis=1), \n",
    "    pd.get_dummies(Bos_Clean_DataFrame[col], prefix=col, prefix_sep='_',\n",
    "    drop_first=True, dummy_na=True)], axis=1)\n",
    "    \n",
    "#drop columns\n",
    "\n",
    "drop_col3 = ['listing_id', 'year']\n",
    "Bos_Clean_DataFrame = Bos_Clean_DataFrame.drop(axis = 1, labels = drop_col3)\n"
   ]
  },
  {
   "cell_type": "code",
   "execution_count": 73,
   "metadata": {
    "collapsed": false
   },
   "outputs": [],
   "source": [
    "start = time.time()\n",
    "#Train and Test split\n",
    "\n",
    "drop_col3 = ['price']\n",
    "\n",
    "X = Bos_Clean_DataFrame.drop(axis = 1, labels = drop_col3)\n",
    "y = Bos_Clean_DataFrame[['price']]\n",
    "\n",
    "X_train, X_test, y_train, y_test = train_test_split(X, y, test_size = 0.3, random_state = 42)\n",
    "\n",
    "\n",
    "end = time.time()\n",
    "print(end - start)"
   ]
  },
  {
   "cell_type": "code",
   "execution_count": null,
   "metadata": {
    "collapsed": false
   },
   "outputs": [],
   "source": [
    "start = time.time()\n",
    "\n",
    "#XGBoost model : Train XGBoost model to predict the price.\n",
    "\n",
    "Bos_model = xgboost.XGBRegressor(n_estimators=100, learning_rate=0.08, gamma=0, subsample=0.75,\n",
    "                           colsample_bytree=1, max_depth=7)\n",
    "Bos_model.fit(X_train,y_train)\n",
    "\n",
    "# print scores \n",
    "Bos_predict_y_train = Bos_model.predict(X_train)\n",
    "Bos_predict_y_test = Bos_model.predict(X_test)\n",
    "\n",
    "print('MSE train: %.3f, test: %.3f' % (\n",
    "        mean_squared_error(y_train, predict_y_train),\n",
    "        mean_squared_error(y_test, predict_y_test)))\n",
    "print('R^2 train: %.3f, test: %.3f' % (\n",
    "        r2_score(y_train, predict_y_train),\n",
    "        r2_score(y_test, predict_y_test)))\n",
    "\n",
    "\n",
    "\n",
    "end = time.time()\n",
    "print(end - start)"
   ]
  },
  {
   "cell_type": "code",
   "execution_count": null,
   "metadata": {
    "collapsed": true
   },
   "outputs": [],
   "source": []
  },
  {
   "cell_type": "markdown",
   "metadata": {},
   "source": [
    "## Feature importances from the XGBoost model\n"
   ]
  },
  {
   "cell_type": "code",
   "execution_count": null,
   "metadata": {
    "collapsed": true
   },
   "outputs": [],
   "source": [
    "headers = [\"Name\", \"Score\"]\n",
    "values = sorted(zip(X_train.columns, model.feature_importances_), key=lambda x: x[1] * -1)\n",
    "model_feature_importances = pd.DataFrame(values, columns = headers)\n",
    "\n",
    "#plot top 15 features, feature importances\n",
    "top_features = model_feature_importances['name'][:15]\n",
    "arrange_y = np.arange(len(top_features))\n",
    "total_scores = model_feature_importances['Score'][:15]\n",
    " \n",
    "plt.figure(figsize=(10,5))\n",
    "plt.bar(arrange_y, total_scores, align='center', alpha=0.5)\n",
    "plt.xticks(arrange_y, top_features, rotation='vertical')\n",
    "plt.ylabel('Score')\n",
    "plt.xlabel('Features')\n",
    "plt.title('Feature Importance of XGBoost Model')\n",
    "\n",
    "plt.savefig('Feature Importances XGB.png')\n",
    " \n",
    "plt.show()"
   ]
  },
  {
   "cell_type": "code",
   "execution_count": null,
   "metadata": {
    "collapsed": true
   },
   "outputs": [],
   "source": [
    "# Feature importances from the XGBoost model\n",
    "\n",
    "\n",
    "headers = [\"name\", \"score\"]\n",
    "values = sorted(zip(X_train.columns, model.feature_importances_), key=lambda x: x[1] * -1)\n",
    "model_feature_importances = pd.DataFrame(values, columns = headers)\n",
    "\n",
    "#plot top 15 features, feature importances\n",
    "top_features = model_feature_importances['name'][:15]\n",
    "arrange_y = np.arange(len(top_features))\n",
    "total_scores = model_feature_importances['score'][:15]\n",
    " \n",
    "plt.figure(figsize=(10,5))\n",
    "plt.bar(arrange_y, total_scores, align='center', alpha=0.5)\n",
    "plt.xticks(arrange_y, top_features, rotation='vertical')\n",
    "plt.ylabel('Score')\n",
    "plt.xlabel('Features')\n",
    "plt.title('Feature importances of Model (XGBoost)')\n",
    "\n",
    "plt.savefig('feature importances XGB.png')\n",
    " \n",
    "plt.show()"
   ]
  },
  {
   "cell_type": "markdown",
   "metadata": {},
   "source": [
    "\n",
    "Here, the conclusion after modelling also says that factors that we found out in our analysis part above are influencing price rates. These features are listed below:\n",
    "time of the year, location,\n",
    "number of bedrooms, bathrooms, beds and\n",
    "accomodates\n",
    "number of host's listings,\n",
    "number of reviews and review scores ratings\n",
    "extra guests\n",
    "Location in review \n",
    "number of years since they are the host,\n",
    "time in which the host responds to the inquiries"
   ]
  },
  {
   "cell_type": "code",
   "execution_count": null,
   "metadata": {
    "collapsed": true
   },
   "outputs": [],
   "source": []
  },
  {
   "cell_type": "code",
   "execution_count": null,
   "metadata": {
    "collapsed": true
   },
   "outputs": [],
   "source": [
    "#120Seattle Data Below"
   ]
  },
  {
   "cell_type": "code",
   "execution_count": null,
   "metadata": {
    "collapsed": true
   },
   "outputs": [],
   "source": []
  },
  {
   "cell_type": "code",
   "execution_count": null,
   "metadata": {
    "collapsed": true
   },
   "outputs": [],
   "source": []
  },
  {
   "cell_type": "code",
   "execution_count": null,
   "metadata": {
    "collapsed": true
   },
   "outputs": [],
   "source": []
  },
  {
   "cell_type": "code",
   "execution_count": null,
   "metadata": {
    "collapsed": true
   },
   "outputs": [],
   "source": []
  },
  {
   "cell_type": "code",
   "execution_count": null,
   "metadata": {
    "collapsed": true
   },
   "outputs": [],
   "source": []
  },
  {
   "cell_type": "code",
   "execution_count": null,
   "metadata": {
    "collapsed": true
   },
   "outputs": [],
   "source": []
  },
  {
   "cell_type": "code",
   "execution_count": null,
   "metadata": {
    "collapsed": true
   },
   "outputs": [],
   "source": []
  },
  {
   "cell_type": "markdown",
   "metadata": {},
   "source": [
    "## Question 2: What are the changes in price according to seasons? \n",
    "\n",
    "Answer: For this I get two years data that of 2016 gives the cear view . That summer has reativey ow prices than winter season. "
   ]
  },
  {
   "cell_type": "code",
   "execution_count": 63,
   "metadata": {
    "collapsed": false
   },
   "outputs": [
    {
     "data": {
      "image/png": "[encoded data removed]",
      "text/plain": [
       "<matplotlib.figure.Figure at 0x22c86226630>"
      ]
     },
     "metadata": {},
     "output_type": "display_data"
    }
   ],
   "source": [
    "#listings for each month in 2017\n",
    "Bos_total_listings_monthly = pd.Series([12])\n",
    "for i in range(1, 13):\n",
    "    Bos_total_listings_monthly[i] = len(Bos_Clean_DataFrame[(Bos_Clean_DataFrame['month'] == i) \n",
    "    & (Bos_Clean_DataFrame['year'] == 2017)]['listing_id'].unique())\n",
    "    \n",
    "Bos_total_listings_monthly = Bos_total_listings_monthly.drop(0)\n",
    "\n",
    "#plot\n",
    "plt.figure(figsize=(10,5))\n",
    "plt.plot(Bos_total_listings_monthly)\n",
    "plt.xticks(np.arange(1, 13, step=1))\n",
    "plt.ylabel('Boston Listings')\n",
    "plt.xlabel('Month')\n",
    "plt.title('Boston Total Listings Aggregated Monthly')\n",
    "\n",
    "plt.savefig('Number of Available Boston Listings.png')\n",
    "\n",
    "plt.show()"
   ]
  },
  {
   "cell_type": "code",
   "execution_count": 65,
   "metadata": {
    "collapsed": false
   },
   "outputs": [
    {
     "data": {
      "image/png": "[encoded data removed]",
      "text/plain": [
       "<matplotlib.figure.Figure at 0x22c85582f28>"
      ]
     },
     "metadata": {},
     "output_type": "display_data"
    }
   ],
   "source": [
    "#listings for each month in 2016\n",
    "Sea_total_listings_monthly = pd.Series([12])\n",
    "for i in range(1, 13):\n",
    "    Sea_total_listings_monthly[i] = len(Sea_Clean_DataFrame[(Sea_Clean_DataFrame['month'] == i) & (Sea_Clean_DataFrame['year'] == 2016)]['listing_id'].unique())\n",
    "    \n",
    "Sea_total_listings_monthly = Sea_total_listings_monthly.drop(0)\n",
    "\n",
    "#plot\n",
    "plt.figure(figsize=(10,5))\n",
    "plt.plot(Sea_total_listings_monthly)\n",
    "plt.xticks(np.arange(1, 13, step=1))\n",
    "plt.ylabel('Seattle Listings')\n",
    "plt.xlabel('Month')\n",
    "plt.title('Seattle Total Listings Aggregated Monthly')\n",
    "\n",
    "plt.savefig('Number of Available Seattle Listings.png')\n",
    "\n",
    "plt.show()"
   ]
  },
  {
   "cell_type": "code",
   "execution_count": null,
   "metadata": {
    "collapsed": true
   },
   "outputs": [],
   "source": []
  }
 ],
 "metadata": {
  "kernelspec": {
   "display_name": "Python 3",
   "language": "python",
   "name": "python3"
  },
  "language_info": {
   "codemirror_mode": {
    "name": "ipython",
    "version": 3
   },
   "file_extension": ".py",
   "mimetype": "text/x-python",
   "name": "python",
   "nbconvert_exporter": "python",
   "pygments_lexer": "ipython3",
   "version": "3.6.8"
  }
 },
 "nbformat": 4,
 "nbformat_minor": 2
}
